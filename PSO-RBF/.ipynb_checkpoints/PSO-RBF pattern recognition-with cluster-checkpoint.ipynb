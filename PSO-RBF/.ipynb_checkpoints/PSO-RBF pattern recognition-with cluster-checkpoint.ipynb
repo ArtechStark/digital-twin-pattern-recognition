{
 "cells": [
  {
   "cell_type": "markdown",
   "metadata": {},
   "source": [
    "# 用PSO-RBF算法做模式识别\n",
    "把模式提取出来的6个特征向量整合成trainData，然后标签给Y，进行训练即可"
   ]
  },
  {
   "cell_type": "code",
   "execution_count": 11,
   "metadata": {},
   "outputs": [],
   "source": [
    "import time\n",
    "import matplotlib.pyplot as plt\n",
    "import math\n",
    "from scipy.linalg import norm, pinv # 范数(norm)和伪逆(pseudo-inverses)\n",
    "import random\n",
    "import numpy as np"
   ]
  },
  {
   "cell_type": "code",
   "execution_count": 12,
   "metadata": {},
   "outputs": [],
   "source": [
    "plt.rcParams['figure.figsize'] = (16,8)\n",
    "plt.rcParams['xtick.color'] = 'w'  #设置横轴刻度颜色为w\n",
    "plt.rcParams['ytick.color'] = 'w'  \n",
    "%matplotlib inline"
   ]
  },
  {
   "cell_type": "markdown",
   "metadata": {},
   "source": [
    "# Cluster"
   ]
  },
  {
   "cell_type": "code",
   "execution_count": 13,
   "metadata": {},
   "outputs": [],
   "source": [
    "# 聚类的实现\n",
    "# 数据集形式data=[[],[],...,[]]\n",
    "# 聚类结果形式result=[[[],[],...],[[],[],...],...]\n",
    "# 其中[]为一个模式样本，[[],[],...]为一个聚类\n",
    "\n",
    "def start_cluster(data, t):\n",
    "    zs = [data[0]]  # 聚类中心集，选取第一个模式样本作为第一个聚类中心Z1\n",
    "    # 第2步：寻找Z2,并计算阈值T\n",
    "    T = step2(data, t, zs)\n",
    "    # 第3,4,5步，寻找所有的聚类中心\n",
    "    get_clusters(data, zs, T)\n",
    "    # 按最近邻分类\n",
    "    result = classify(data, zs, T)\n",
    "    return result\n",
    "\n",
    "\n",
    "# 分类\n",
    "def classify(data, zs, T):\n",
    "    result = [[] for i in range(len(zs))]\n",
    "    for aData in data:\n",
    "        min_distance = T\n",
    "        index = 0\n",
    "        for i in range(len(zs)):\n",
    "            temp_distance = get_distance(aData, zs[i])\n",
    "            if temp_distance < min_distance:\n",
    "                min_distance = temp_distance\n",
    "                index = i\n",
    "        result[index].append(aData)\n",
    "    return result\n",
    "\n",
    "\n",
    "# 寻找所有的聚类中心\n",
    "def get_clusters(data, zs, T):\n",
    "    max_min_distance = 0\n",
    "    index = 0\n",
    "    for i in range(len(data)):\n",
    "        min_distance = []\n",
    "        for j in range(len(zs)):\n",
    "            distance = get_distance(data[i], zs[j])\n",
    "            min_distance.append(distance)\n",
    "        min_dis = min(dis for dis in min_distance)\n",
    "        if min_dis > max_min_distance:\n",
    "            max_min_distance = min_dis\n",
    "            index = i\n",
    "    if max_min_distance > T:\n",
    "        zs.append(data[index])\n",
    "        # 迭代\n",
    "        get_clusters(data, zs, T)\n",
    "\n",
    "\n",
    "# 寻找Z2,并计算阈值T\n",
    "def step2(data, t, zs):\n",
    "    distance = 0\n",
    "    index = 0\n",
    "    for i in range(len(data)):\n",
    "        temp_distance = get_distance(data[i], zs[0])\n",
    "        if temp_distance > distance:\n",
    "            distance = temp_distance\n",
    "            index = i\n",
    "    # 将Z2加入到聚类中心集中\n",
    "    zs.append(data[index])\n",
    "    # 计算阈值T\n",
    "    T = t * distance\n",
    "    return T\n",
    "\n",
    "\n",
    "# 计算两个模式样本之间的欧式距离\n",
    "def get_distance(data1, data2):\n",
    "    data1 = np.array(data1)\n",
    "    data2 = np.array(data2)\n",
    "    n = norm(data1-data2)\n",
    "    return n"
   ]
  },
  {
   "cell_type": "markdown",
   "metadata": {},
   "source": [
    "# RBF"
   ]
  },
  {
   "cell_type": "code",
   "execution_count": 14,
   "metadata": {},
   "outputs": [],
   "source": [
    "class RBF:\n",
    "\n",
    "    def __init__(self, indim, numCenters, outdim,centers,b):\n",
    "        self.indim = indim\n",
    "        self.outdim = outdim\n",
    "        self.numCenters = numCenters\n",
    "        self.centers = centers\n",
    "        self.beta = []\n",
    "        for i in range(len(b)):\n",
    "            self.beta.append(0.5/b[i]**2)\n",
    "        self.W = np.random.random((self.numCenters, self.outdim))\n",
    "\n",
    "    def _basisfunc(self, c, d,ci):  #计算高斯函数值\n",
    "        assert len(d) == self.indim\n",
    "        b=float(self.beta[ci])\n",
    "        return np.exp(- b*norm(c - d) ** 2)  #采用高斯函数\n",
    "\n",
    "    def _calcAct(self, X):  #计算Green矩阵\n",
    "        G = np.zeros((len(X), self.numCenters), float)   #初始化G\n",
    "        for ci, c in enumerate(self.centers):\n",
    "            for xi, x in enumerate(X):\n",
    "                G[xi, ci] = self._basisfunc(c, x,ci)\n",
    "        return G\n",
    "\n",
    "    def train(self, X, Y):\n",
    "        G = self._calcAct(X)\n",
    "        self.W = np.dot(pinv(G), Y)\n",
    "\n",
    "    def test(self, X):\n",
    "        \"\"\" X: matrix of dimensions n x indim \"\"\"\n",
    "\n",
    "        G = self._calcAct(X)\n",
    "        Y = np.dot(G, self.W)\n",
    "        return Y\n",
    "\n",
    "    def cal_distance(self,X,Y):\n",
    "        pY=self.test(X)\n",
    "        d=pY-Y\n",
    "        d=d**2\n",
    "        d=sum(d)\n",
    "        return d"
   ]
  },
  {
   "cell_type": "markdown",
   "metadata": {},
   "source": [
    "# PSO"
   ]
  },
  {
   "cell_type": "code",
   "execution_count": 15,
   "metadata": {},
   "outputs": [],
   "source": [
    "# ----------------------PSO参数设置---------------------------------\n",
    "class PSO():\n",
    "    def __init__(self, pN, dim, max_iter, data,Y):\n",
    "        self.w = 0.8\n",
    "        self.c1 = 2\n",
    "        self.c2 = 2\n",
    "        self.r1 = 0.6\n",
    "        self.r2 = 0.3\n",
    "        self.pN = pN  # 粒子数量\n",
    "        self.dim = dim*6  # 搜索维度\n",
    "        self.max_iter = max_iter  # 迭代次数\n",
    "        self.X = np.zeros((self.pN, self.dim))  # 所有粒子的位置和速度\n",
    "        self.V = np.zeros((self.pN, self.dim))\n",
    "        self.pbest = np.zeros((self.pN, self.dim))  # 个体经历的最佳位置和全局最佳位置\n",
    "        self.gbest = np.zeros((1, self.dim))\n",
    "        self.p_fit = np.zeros(self.pN)  # 每个个体的历史最佳适应值\n",
    "        self.fit = 1e10  # 全局最佳适应值\n",
    "        self.data = data\n",
    "        self.Y=Y\n",
    "\n",
    "    # ---------------------计算宽度值-----------------------------\n",
    "    def calbeta(self, result, centers):\n",
    "        di=0\n",
    "        dikv=[]\n",
    "        for i in range(len(result)):\n",
    "            for j in range(len(result[i])):\n",
    "                di+=(norm(result[i][j]-centers[i]))**2\n",
    "        di=np.sqrt(di)\n",
    "        for i in range(len(centers)):\n",
    "            for j in range(i+1,len(centers)):\n",
    "                dikv.append(norm(centers[i]-centers[j]))\n",
    "        dik=min(dikv)\n",
    "        return dik-di\n",
    "\n",
    "\n",
    "    # ---------------------目标函数Sphere函数-----------------------------\n",
    "    def calFitness(self, x):\n",
    "        # sum = 0\n",
    "        # length = len(x)\n",
    "        # x = x ** 2\n",
    "        # for i in range(length):\n",
    "        #     sum += x[i]\n",
    "        if(x[0]>1 or x[0]<0):\n",
    "            x[0]=0.1\n",
    "        result = start_cluster(self.data, x[0])\n",
    "        centers = []\n",
    "        for i in range(len(result)):\n",
    "            #print(\"----------第\" + str(i + 1) + \"个聚类----------\",result[i])\n",
    "            #y=0\n",
    "            center=np.zeros(5)\n",
    "            for j in range(len(result[i])):\n",
    "                center+=np.array(result[i][j])\n",
    "                #y+=self.Y[self.data.index(result[i][j])]\n",
    "            center/=len(result[i])\n",
    "            #y/=len(result[i])\n",
    "            centers.append(center)\n",
    "        b = self.calbeta(result,centers)\n",
    "        centers = []\n",
    "        b=[]\n",
    "        for i in range(int(self.dim/6)):\n",
    "            temp = x[i * 6:(i + 1) * 6 - 1]\n",
    "            centers.append(temp)\n",
    "            temp = x[(i + 1) * 6 - 1]\n",
    "            b.append(temp)\n",
    "        rbf = RBF(5, int(self.dim/6), 1,centers,b)\n",
    "        rbf.train(self.data, self.Y)\n",
    "        fitness = rbf.cal_distance(self.data, self.Y)\n",
    "        #print('fitness:',fitness)\n",
    "\n",
    "        return fitness\n",
    "\n",
    "    # ---------------------初始化种群----------------------------------\n",
    "    def init_Population(self):\n",
    "        for i in range(self.pN):\n",
    "            for j in range(self.dim):\n",
    "                if((self.dim+1)%6==0):\n",
    "                    self.X[i][j] = random.uniform(0.0012, 0.002)\n",
    "                    self.V[i][j] = random.uniform(-1, 1) * 0.001\n",
    "                else:\n",
    "                    self.X[i][j] = random.uniform(0.0012, 0.5)\n",
    "                    self.V[i][j] = random.uniform(-1, 1)*0.01\n",
    "            self.pbest[i] = self.X[i]\n",
    "            tmp = self.calFitness(self.X[i])\n",
    "            self.p_fit[i] = tmp\n",
    "            if (tmp < self.fit):\n",
    "                self.fit = tmp\n",
    "                self.gbest = self.X[i]\n",
    "\n",
    "# ----------------------部署最优RBF----------------------------------\n",
    "    def layoutBest(self):\n",
    "        centers = []\n",
    "        b = []\n",
    "        for i in range(int(self.dim / 6)):\n",
    "            temp = self.gbest[i*6:(i+1)*6-1]\n",
    "            centers.append(temp)\n",
    "            temp = self.gbest[(i+1)*6-1]\n",
    "            b.append(temp)\n",
    "        dim=int(self.dim / 6)\n",
    "        rbf = RBF(5, dim, 1, centers, b)\n",
    "        rbf.train(self.data, self.Y)\n",
    "        return rbf\n",
    "\n",
    "# ----------------------返回最优layout----------------------------------\n",
    "    def getBestLayout(self):\n",
    "        return self.gbest\n",
    "\n",
    "# ----------------------更新粒子位置----------------------------------\n",
    "    def iterator(self):\n",
    "        fitness = []\n",
    "        for t in range(self.max_iter):\n",
    "            for i in range(self.pN):  # 更新gbest\\pbest\n",
    "                temp = self.calFitness(self.X[i])\n",
    "                if (temp < self.p_fit[i]):  # 更新个体最优\n",
    "                    self.p_fit[i] = temp\n",
    "                    self.pbest[i] = self.X[i]\n",
    "                    if (self.p_fit[i] < self.fit):  # 更新全局最优\n",
    "                        self.gbest = self.X[i]\n",
    "                        self.fit = self.p_fit[i]\n",
    "            for i in range(self.pN):\n",
    "                self.V[i] = self.w * self.V[i] + self.c1 * self.r1 * \\\n",
    "                            (self.pbest[i] - self.X[i]) + \\\n",
    "                            self.c2 * self.r2 * (self.gbest - self.X[i])\n",
    "                self.X[i] = self.X[i] + self.V[i]\n",
    "            fitness.append(self.fit)\n",
    "            print(self.fit)  # 输出最优值\n",
    "        return fitness"
   ]
  },
  {
   "cell_type": "markdown",
   "metadata": {},
   "source": [
    "# PSO-RBF train model"
   ]
  },
  {
   "cell_type": "code",
   "execution_count": 16,
   "metadata": {},
   "outputs": [
    {
     "name": "stdout",
     "output_type": "stream",
     "text": [
      "0.1099084466083321\n",
      "0.0195415972306868\n",
      "0.0195415972306868\n",
      "0.0195415972306868\n",
      "0.008426054171505777\n",
      "0.008426054171505777\n",
      "0.004264636728294951\n",
      "0.004264636728294951\n",
      "0.0017492736478814288\n",
      "0.0017492736478814288\n",
      "0.0017492736478814288\n",
      "0.0008783442894563273\n",
      "0.0008783442894563273\n",
      "0.0008783442894563273\n",
      "0.0008783442894563273\n",
      "0.0008783442894563273\n",
      "0.0008783442894563273\n",
      "0.0008783442894563273\n",
      "0.0008783442894563273\n",
      "0.0008783442894563273\n",
      "0.0008783442894563273\n",
      "0.0008783442894563273\n",
      "0.0008783442894563273\n",
      "0.0008783442894563273\n",
      "0.0008662338392944495\n",
      "0.0008662338392944495\n",
      "0.0008662338392944495\n",
      "0.0008662338392944495\n",
      "0.0008662338392944495\n",
      "0.0008662338392944495\n",
      "0.0008358315267976851\n",
      "0.0008358315267976851\n",
      "0.0008358315267976851\n",
      "0.0008358315267976851\n",
      "0.0008293902226303406\n",
      "0.0008264319768726187\n",
      "0.0008264319768726187\n",
      "0.0008264319768726187\n",
      "0.0008264319768726187\n",
      "0.000825403143144295\n",
      "0.0008252379782239825\n",
      "0.0008252379782239825\n",
      "0.0007936550452250582\n",
      "0.0007935900409747165\n",
      "0.000787773228363295\n",
      "0.000783980894172539\n",
      "0.0007704793334030872\n",
      "0.000762734558241306\n",
      "0.0007549619685846792\n",
      "0.0007430369728649141\n",
      "训练耗时： 3.341326951980591\n"
     ]
    }
   ],
   "source": [
    "time_start = time.time()\n",
    "trainData=[[0.91,0.21,0.02,0.04,0.06],[0.88,0.23,0.04,0.03,0.05],[0.90,0.20,0.05,0.03,0.02],\n",
    "    [0.04,0.98,0.10,0.02,0.02],[0.02,0.97,0.08,0.01,0.01],[0.03,0.99,0.09,0.02,0.02],\n",
    "    [0.02,0.41,0.43,0.34,0.15],[0.01,0.47,0.40,0.32,0.10],[0.02,0.52,0.41,0.31,0.14],\n",
    "    [0.01,0.04,0.01,0.01,0.03],[0.02,0.03,0.06,0.04,0.02],[0.02,0.03,0.05,0.03,0.02]]\n",
    "Y=[1,1,1,2,2,2,3,3,3,4,4,4]\n",
    "maxi=50\n",
    "my_pso = PSO(pN=12, dim=5, max_iter=maxi,data=trainData,Y=Y)\n",
    "my_pso.init_Population()\n",
    "fitness = my_pso.iterator()\n",
    "time_end = time.time()\n",
    "print('训练耗时：', time_end - time_start)"
   ]
  },
  {
   "cell_type": "code",
   "execution_count": 27,
   "metadata": {},
   "outputs": [
    {
     "data": {
      "image/png": "[encoded data removed]",
      "text/plain": [
       "<Figure size 1152x576 with 1 Axes>"
      ]
     },
     "metadata": {},
     "output_type": "display_data"
    },
    {
     "data": {
      "image/png": "[encoded data removed]",
      "text/plain": [
       "<Figure size 1152x576 with 1 Axes>"
      ]
     },
     "metadata": {},
     "output_type": "display_data"
    }
   ],
   "source": [
    "plt.rcParams['figure.figsize'] = (16,8)\n",
    "plt.figure(1)\n",
    "plt.title(\"Figure1\",size=20, color='w')\n",
    "plt.xlabel(\"iterations\", size=14,color='w')\n",
    "plt.ylabel(\"accuracy\", size=14,color='w')\n",
    "t = np.array([t for t in range(0, maxi)])\n",
    "fitness = np.array(fitness)\n",
    "plt.plot(t, 1-fitness, color='b', linewidth=3)\n",
    "plt.savefig('1.jpg')\n",
    "plt.show()\n",
    "acc=1 - fitness\n",
    "acc\n",
    "plt.figure(2)\n",
    "plt.title(\"Figure2\",size=20, color='w')\n",
    "plt.xlabel(\"iterations\", size=14,color='w')\n",
    "plt.ylabel(\"error\", size=14,color='w')\n",
    "plt.plot(t, fitness, color='b', linewidth=3)\n",
    "plt.savefig('2.jpg')\n",
    "plt.show()"
   ]
  },
  {
   "cell_type": "code",
   "execution_count": 18,
   "metadata": {},
   "outputs": [
    {
     "name": "stdout",
     "output_type": "stream",
     "text": [
      "\n",
      "训练结果：\n",
      "[1.01063018 0.99434716 0.99664904 1.99672719 2.01610342 1.98612318\n",
      " 3.00025709 3.00243101 2.99726026 3.99507154 4.00754279 3.99736081]\n",
      "训练结果（整数）：\n",
      "[1 1 1 2 2 2 3 3 3 4 4 4]\n"
     ]
    }
   ],
   "source": [
    "bestRbf=my_pso.layoutBest()\n",
    "trainoutcome=bestRbf.test(np.array(trainData))\n",
    "print()\n",
    "print('训练结果：')\n",
    "print(trainoutcome)\n",
    "print('训练结果（整数）：')\n",
    "print((np.around(trainoutcome).astype(np.int32)))"
   ]
  },
  {
   "cell_type": "markdown",
   "metadata": {},
   "source": [
    "# Test"
   ]
  },
  {
   "cell_type": "code",
   "execution_count": 19,
   "metadata": {
    "scrolled": true
   },
   "outputs": [
    {
     "name": "stdout",
     "output_type": "stream",
     "text": [
      "测试样本结果：\n",
      "[1.08103535 1.96466405 3.00025709 4.00507553]\n"
     ]
    }
   ],
   "source": [
    "testData=[[0.91,0.18,0.02,0.04,0.06],[0.03,0.97,0.05,0.02,0.02],\n",
    "        [0.02,0.41,0.43,0.34,0.15],[0.01,0.04,0.02,0.03,0.03]]\n",
    "testOutcome=bestRbf.test(np.array(testData))\n",
    "print('测试样本结果：')\n",
    "print(testOutcome)\n",
    "\n",
    "# gbest=my_pso.getBestLayout()\n",
    "# centers = []\n",
    "# b = []\n",
    "# for i in range(6):\n",
    "#     temp = gbest[i * 6:(i + 1) * 6 - 1]\n",
    "#     centers.append(temp)\n",
    "#     temp = gbest[(i + 1) * 6 - 1]\n",
    "#     b.append(temp)\n",
    "# rbf = RBF(5, 11, 1, centers, b)\n",
    "# rbf.train(trainData, Y)"
   ]
  },
  {
   "cell_type": "code",
   "execution_count": 20,
   "metadata": {},
   "outputs": [
    {
     "data": {
      "text/plain": [
       "(12, 5)"
      ]
     },
     "execution_count": 20,
     "metadata": {},
     "output_type": "execute_result"
    }
   ],
   "source": [
    "trainData_array = np.array(trainData)\n",
    "trainData_array.shape"
   ]
  }
 ],
 "metadata": {
  "kernelspec": {
   "display_name": "Python 3",
   "language": "python",
   "name": "python3"
  },
  "language_info": {
   "codemirror_mode": {
    "name": "ipython",
    "version": 3
   },
   "file_extension": ".py",
   "mimetype": "text/x-python",
   "name": "python",
   "nbconvert_exporter": "python",
   "pygments_lexer": "ipython3",
   "version": "3.6.5"
  },
  "toc": {
   "base_numbering": 1,
   "nav_menu": {},
   "number_sections": true,
   "sideBar": true,
   "skip_h1_title": false,
   "title_cell": "Table of Contents",
   "title_sidebar": "Contents",
   "toc_cell": false,
   "toc_position": {
    "height": "438px",
    "left": "29px",
    "top": "256px",
    "width": "256px"
   },
   "toc_section_display": true,
   "toc_window_display": false
  },
  "varInspector": {
   "cols": {
    "lenName": 16,
    "lenType": 16,
    "lenVar": 40
   },
   "kernels_config": {
    "python": {
     "delete_cmd_postfix": "",
     "delete_cmd_prefix": "del ",
     "library": "var_list.py",
     "varRefreshCmd": "print(var_dic_list())"
    },
    "r": {
     "delete_cmd_postfix": ") ",
     "delete_cmd_prefix": "rm(",
     "library": "var_list.r",
     "varRefreshCmd": "cat(var_dic_list()) "
    }
   },
   "position": {
    "height": "411px",
    "left": "301px",
    "right": "20px",
    "top": "135px",
    "width": "741px"
   },
   "types_to_exclude": [
    "module",
    "function",
    "builtin_function_or_method",
    "instance",
    "_Feature"
   ],
   "window_display": false
  }
 },
 "nbformat": 4,
 "nbformat_minor": 2
}
