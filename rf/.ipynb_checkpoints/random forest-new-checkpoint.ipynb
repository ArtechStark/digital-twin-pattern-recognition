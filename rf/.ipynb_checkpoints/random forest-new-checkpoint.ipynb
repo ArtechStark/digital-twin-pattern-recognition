{
 "cells": [
  {
   "cell_type": "code",
   "execution_count": null,
   "metadata": {},
   "outputs": [],
   "source": [
    "import json\n",
    "import lightgbm as lgb\n",
    "import pandas as pd\n",
    "import scipy.io as scio\n",
    "from sklearn.metrics import roc_auc_score\n",
    "import matplotlib.pyplot as plt\n",
    "%matplotlib inline\n",
    "plt.rcParams['figure.figsize'] = 16,8\n",
    "#plt.rcParams['xtick.color'] = 'w'\n",
    "#plt.rcParams['ytick.color'] = 'w'"
   ]
  },
  {
   "cell_type": "markdown",
   "metadata": {},
   "source": [
    "# 读入数据"
   ]
  },
  {
   "cell_type": "code",
   "execution_count": null,
   "metadata": {},
   "outputs": [],
   "source": [
    "data_path = r\"../data/data.mat\"\n",
    "print(\"load data\")\n",
    "data = scio.loadmat(data_path)\n",
    "\n",
    "datainptrain = data['datainptrain']\n",
    "dataouttrain = data['dataouttrain']\n",
    "datainptest = data['datainptest']\n",
    "dataouttest = data['dataouttest']\n",
    "\n",
    "'''\n",
    "X_train = datainptrain\n",
    "y_train = dataouttrain\n",
    "X_test = datainptest\n",
    "y_test = dataouttest\n",
    "\n",
    "'''\n",
    "X_test = datainptrain\n",
    "y_test = dataouttrain\n",
    "X_train = datainptest\n",
    "y_train = dataouttest"
   ]
  },
  {
   "cell_type": "code",
   "execution_count": null,
   "metadata": {},
   "outputs": [],
   "source": [
    "print('X_train.shape: ',X_train.shape)\n",
    "print('y_train.shape: ',y_train.shape)\n",
    "print('X_test.shape: ',X_test.shape)\n",
    "print('y_test.shape: ',y_test.shape)"
   ]
  },
  {
   "cell_type": "markdown",
   "metadata": {},
   "source": [
    "# 打乱数据"
   ]
  },
  {
   "cell_type": "code",
   "execution_count": null,
   "metadata": {},
   "outputs": [],
   "source": [
    "print(X_train.shape,y_train.shape)\n",
    "full_train = np.concatenate((X_train,y_train),axis=1)\n",
    "print(full_train.shape)\n",
    "np.random.shuffle(full_train)\n",
    "X_train = full_train[:,0:19]\n",
    "y_train = full_train[:,19:]\n",
    "print(X_train.shape,y_train.shape)"
   ]
  },
  {
   "cell_type": "markdown",
   "metadata": {},
   "source": [
    "# model fit and predict"
   ]
  },
  {
   "cell_type": "code",
   "execution_count": null,
   "metadata": {},
   "outputs": [],
   "source": [
    "from sklearn.ensemble import RandomForestClassifier\n",
    "model = RandomForestClassifier()\n",
    "from sklearn.model_selection import learning_curve\n",
    "from sklearn.metrics import accuracy_score, roc_curve, auc"
   ]
  },
  {
   "cell_type": "code",
   "execution_count": null,
   "metadata": {},
   "outputs": [],
   "source": [
    "model.fit(X_train, y_train)"
   ]
  },
  {
   "cell_type": "code",
   "execution_count": null,
   "metadata": {},
   "outputs": [],
   "source": [
    "print(model.score(X_train, y_train), model.score(X_test, y_test))"
   ]
  },
  {
   "cell_type": "code",
   "execution_count": null,
   "metadata": {},
   "outputs": [],
   "source": [
    "y_pred = model.predict(X_test)\n",
    "print(accuracy_score(y_test,y_pred))"
   ]
  },
  {
   "cell_type": "markdown",
   "metadata": {},
   "source": [
    "# learning curve"
   ]
  },
  {
   "cell_type": "code",
   "execution_count": null,
   "metadata": {},
   "outputs": [],
   "source": [
    "lc_x, lc_train, lc_test = learning_curve(model, X_train,y_train,train_sizes=np.linspace(0.05,1,50))\n",
    "lc_train = np.mean(lc_train,axis=1)\n",
    "lc_test = np.mean(lc_test,axis=1)\n",
    "plt.figure()\n",
    "plt.rcParams['figure.figsize'] = 16,8\n",
    "plt.plot(lc_x,lc_train,'o-',color='red',label='Training set')\n",
    "plt.plot(lc_x,lc_test,'o-',color='blue',label='Testing set')\n",
    "plt.legend()\n",
    "plt.title('Learning curve')\n",
    "plt.xlabel('number of training samples')\n",
    "plt.ylabel('accuracy')\n",
    "plt.savefig('learning_curve.png')\n",
    "plt.show()"
   ]
  },
  {
   "cell_type": "markdown",
   "metadata": {},
   "source": [
    "# prediction error varies with training sample number "
   ]
  },
  {
   "cell_type": "code",
   "execution_count": null,
   "metadata": {},
   "outputs": [],
   "source": [
    "acc = [list() for i in range(X_train.shape[0])]\n",
    "for num_train in range(1,X_train.shape[0]+1,1):\n",
    "    X_train_new = X_train[:num_train]\n",
    "    y_train_new = y_train[:num_train]\n",
    "    model.fit(X_train_new,y_train_new)\n",
    "    acc[num_train-1] = model.score(X_test,y_test)"
   ]
  },
  {
   "cell_type": "code",
   "execution_count": null,
   "metadata": {},
   "outputs": [],
   "source": [
    "plt.figure()\n",
    "plt.rcParams['figure.figsize'] = 16,8\n",
    "num_train_xaxis = np.arange(X_train.shape[0])\n",
    "plt.title('Test accuracy varies with number of training data')\n",
    "plt.xlabel('number of training data')\n",
    "plt.ylabel('test accuracy')\n",
    "plt.plot(num_train_xaxis,acc,color='red')\n",
    "#plt.savefig('2.png')\n",
    "plt.show()"
   ]
  },
  {
   "cell_type": "code",
   "execution_count": null,
   "metadata": {},
   "outputs": [],
   "source": [
    "num_start = 30\n",
    "num_stop = 200\n",
    "plt.figure()\n",
    "plt.rcParams['figure.figsize'] = 16,8\n",
    "num_train_xaxis = np.arange(X_train.shape[0])\n",
    "plt.title('Test accuracy varies with number of training data')\n",
    "plt.xlabel('number of training data')\n",
    "plt.ylabel('test accuracy')\n",
    "plt.plot(num_train_xaxis[num_start:num_stop],acc[num_start:num_stop],color='red')\n",
    "#plt.savefig('4.png')\n",
    "plt.show()"
   ]
  },
  {
   "cell_type": "markdown",
   "metadata": {},
   "source": [
    "# 多次学习测试精度图"
   ]
  },
  {
   "cell_type": "code",
   "execution_count": null,
   "metadata": {},
   "outputs": [],
   "source": [
    "x_temp = np.arange(30)\n",
    "acc_multi_times = [[] for i in range(30)]\n",
    "for i in range(30):\n",
    "    model.fit(X_train,y_train)\n",
    "    acc_multi_times[i] = model.score(X_test,y_test)"
   ]
  },
  {
   "cell_type": "code",
   "execution_count": null,
   "metadata": {},
   "outputs": [],
   "source": [
    "acc_multi_times2 = [[] for i in range(30)]\n",
    "for i in range(30):\n",
    "    model.fit(X_train[0:800],y_train[0:800])\n",
    "    acc_multi_times2[i] = model.score(X_test,y_test)"
   ]
  },
  {
   "cell_type": "code",
   "execution_count": null,
   "metadata": {},
   "outputs": [],
   "source": [
    "plt.figure()\n",
    "plt.rcParams['figure.figsize'] = 16,8\n",
    "plt.title('Test accuracy varies with number of experiments')\n",
    "plt.xlabel('number of experiments')\n",
    "plt.ylabel('test accuracy')\n",
    "plt.plot(x_temp,acc_multi_times,'o-',color='red')\n",
    "plt.plot(x_temp,acc_multi_times2,'o-',color='blue')\n",
    "plt.savefig('2-2.png')\n",
    "plt.show()"
   ]
  },
  {
   "cell_type": "code",
   "execution_count": null,
   "metadata": {},
   "outputs": [],
   "source": []
  }
 ],
 "metadata": {
  "kernelspec": {
   "display_name": "Python 3",
   "language": "python",
   "name": "python3"
  },
  "language_info": {
   "codemirror_mode": {
    "name": "ipython",
    "version": 3
   },
   "file_extension": ".py",
   "mimetype": "text/x-python",
   "name": "python",
   "nbconvert_exporter": "python",
   "pygments_lexer": "ipython3",
   "version": "3.6.5"
  },
  "toc": {
   "base_numbering": 1,
   "nav_menu": {},
   "number_sections": true,
   "sideBar": true,
   "skip_h1_title": false,
   "title_cell": "Table of Contents",
   "title_sidebar": "Contents",
   "toc_cell": false,
   "toc_position": {},
   "toc_section_display": true,
   "toc_window_display": false
  },
  "varInspector": {
   "cols": {
    "lenName": 16,
    "lenType": 16,
    "lenVar": 40
   },
   "kernels_config": {
    "python": {
     "delete_cmd_postfix": "",
     "delete_cmd_prefix": "del ",
     "library": "var_list.py",
     "varRefreshCmd": "print(var_dic_list())"
    },
    "r": {
     "delete_cmd_postfix": ") ",
     "delete_cmd_prefix": "rm(",
     "library": "var_list.r",
     "varRefreshCmd": "cat(var_dic_list()) "
    }
   },
   "types_to_exclude": [
    "module",
    "function",
    "builtin_function_or_method",
    "instance",
    "_Feature"
   ],
   "window_display": false
  }
 },
 "nbformat": 4,
 "nbformat_minor": 2
}
