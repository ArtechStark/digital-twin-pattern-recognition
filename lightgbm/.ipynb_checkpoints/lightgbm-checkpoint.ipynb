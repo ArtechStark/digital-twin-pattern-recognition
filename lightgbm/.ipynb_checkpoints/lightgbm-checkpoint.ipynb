{
 "cells": [
  {
   "cell_type": "code",
   "execution_count": 1,
   "metadata": {},
   "outputs": [],
   "source": [
    "import json\n",
    "import lightgbm as lgbm\n",
    "import pandas as pd\n",
    "import scipy.io as scio\n",
    "from sklearn.metrics import auc, accuracy_score, roc_auc_score, roc_curve, log_loss\n",
    "from sklearn.model_selection import GridSearchCV\n",
    "import matplotlib.pyplot as plt\n",
    "%matplotlib inline\n",
    "plt.rcParams['figure.figsize'] = 16,8\n",
    "plt.rcParams['xtick.color'] = 'w'\n",
    "plt.rcParams['ytick.color'] = 'w'"
   ]
  },
  {
   "cell_type": "markdown",
   "metadata": {},
   "source": [
    "# 读入数据"
   ]
  },
  {
   "cell_type": "code",
   "execution_count": 2,
   "metadata": {},
   "outputs": [
    {
     "name": "stdout",
     "output_type": "stream",
     "text": [
      "load data\n"
     ]
    }
   ],
   "source": [
    "data_path = r\"../data/data.mat\"\n",
    "print(\"load data\")\n",
    "data = scio.loadmat(data_path)\n",
    "\n",
    "datainptrain = data['datainptrain']\n",
    "dataouttrain = data['dataouttrain']\n",
    "datainptest = data['datainptest']\n",
    "dataouttest = data['dataouttest']\n",
    "\n",
    "'''\n",
    "X_train = datainptrain\n",
    "y_train = dataouttrain\n",
    "X_test = datainptest\n",
    "y_test = dataouttest\n",
    "\n",
    "'''\n",
    "X_test = datainptrain\n",
    "y_test = dataouttrain\n",
    "X_train = datainptest\n",
    "y_train = dataouttest"
   ]
  },
  {
   "cell_type": "code",
   "execution_count": 3,
   "metadata": {},
   "outputs": [
    {
     "name": "stdout",
     "output_type": "stream",
     "text": [
      "X_train.shape:  (4165, 19)\n",
      "y_train.shape:  (4165, 5)\n",
      "X_test.shape:  (830, 19)\n",
      "y_test.shape:  (830, 5)\n"
     ]
    }
   ],
   "source": [
    "print('X_train.shape: ',X_train.shape)\n",
    "print('y_train.shape: ',y_train.shape)\n",
    "print('X_test.shape: ',X_test.shape)\n",
    "print('y_test.shape: ',y_test.shape)"
   ]
  },
  {
   "cell_type": "markdown",
   "metadata": {},
   "source": [
    "# 把onehot标签修改为1、2、3、4、5"
   ]
  },
  {
   "cell_type": "code",
   "execution_count": 4,
   "metadata": {},
   "outputs": [],
   "source": [
    "#change labels from one-hot to number\n",
    "y_train_temp = y_train\n",
    "y_test_temp = y_test\n",
    "del y_train\n",
    "del y_test\n",
    "y_train = [[] for i in range(y_train_temp.shape[0])]\n",
    "for i in range(y_train_temp.shape[0]):\n",
    "    if list(y_train_temp[i]) == [1,0,0,0,0]:\n",
    "        y_train[i] = 0\n",
    "    if list(y_train_temp[i]) == [0,1,0,0,0]:\n",
    "        y_train[i] = 1\n",
    "    if list(y_train_temp[i]) == [0,0,1,0,0]:\n",
    "        y_train[i] = 2\n",
    "    if list(y_train_temp[i]) == [0,0,0,1,0]:\n",
    "        y_train[i] = 3    \n",
    "    if list(y_train_temp[i]) == [0,0,0,0,1]:\n",
    "        y_train[i] = 4\n",
    "\n",
    "y_test = [[] for i in range(y_test_temp.shape[0])]\n",
    "for i in range(y_test_temp.shape[0]):\n",
    "    if list(y_test_temp[i]) == [1,0,0,0,0]:\n",
    "        y_test[i] = 0\n",
    "    if list(y_test_temp[i]) == [0,1,0,0,0]:\n",
    "        y_test[i] = 1\n",
    "    if list(y_test_temp[i]) == [0,0,1,0,0]:\n",
    "        y_test[i] = 2\n",
    "    if list(y_test_temp[i]) == [0,0,0,1,0]:\n",
    "        y_test[i] = 3    \n",
    "    if list(y_test_temp[i]) == [0,0,0,0,1]:\n",
    "        y_test[i] = 4\n",
    "        \n",
    "\n",
    "\n",
    "X_train = pd.DataFrame(X_train)\n",
    "y_train = pd.DataFrame(y_train)\n",
    "X_test = pd.DataFrame(X_test)\n",
    "y_test = pd.DataFrame(y_test)"
   ]
  },
  {
   "cell_type": "code",
   "execution_count": 5,
   "metadata": {},
   "outputs": [
    {
     "name": "stdout",
     "output_type": "stream",
     "text": [
      "X_train.shape:  (4165, 19) type of X_train:  <class 'pandas.core.frame.DataFrame'>\n",
      "y_train.shape:  (4165, 1) type of y_train:  <class 'pandas.core.frame.DataFrame'>\n",
      "X_test.shape:  (830, 19) type of X_test:  <class 'pandas.core.frame.DataFrame'>\n",
      "y_test.shape:  (830, 1) type of y_test:  <class 'pandas.core.frame.DataFrame'>\n"
     ]
    }
   ],
   "source": [
    "print('X_train.shape: ',X_train.shape,'type of X_train: ',type(X_train))\n",
    "print('y_train.shape: ',y_train.shape,'type of y_train: ',type(y_train))\n",
    "print('X_test.shape: ',X_test.shape,'type of X_test: ',type(X_test))\n",
    "print('y_test.shape: ',y_test.shape,'type of y_test: ',type(y_test))"
   ]
  },
  {
   "cell_type": "markdown",
   "metadata": {},
   "source": [
    "# 打乱数据"
   ]
  },
  {
   "cell_type": "code",
   "execution_count": 6,
   "metadata": {},
   "outputs": [],
   "source": [
    "full_train = np.concatenate((X_train,y_train),axis=1)\n",
    "np.random.shuffle(full_train)\n",
    "X_train = full_train[:,0:19]\n",
    "y_train = full_train[:,19:]\n",
    "X_train = pd.DataFrame(X_train)\n",
    "y_train = pd.DataFrame(y_train)"
   ]
  },
  {
   "cell_type": "code",
   "execution_count": 7,
   "metadata": {},
   "outputs": [
    {
     "name": "stdout",
     "output_type": "stream",
     "text": [
      "X_train.shape:  (4165, 19) type of X_train:  <class 'pandas.core.frame.DataFrame'>\n",
      "y_train.shape:  (4165, 1) type of y_train:  <class 'pandas.core.frame.DataFrame'>\n",
      "X_test.shape:  (830, 19) type of X_test:  <class 'pandas.core.frame.DataFrame'>\n",
      "y_test.shape:  (830, 1) type of y_test:  <class 'pandas.core.frame.DataFrame'>\n"
     ]
    }
   ],
   "source": [
    "print('X_train.shape: ',X_train.shape,'type of X_train: ',type(X_train))\n",
    "print('y_train.shape: ',y_train.shape,'type of y_train: ',type(y_train))\n",
    "print('X_test.shape: ',X_test.shape,'type of X_test: ',type(X_test))\n",
    "print('y_test.shape: ',y_test.shape,'type of y_test: ',type(y_test))"
   ]
  },
  {
   "cell_type": "markdown",
   "metadata": {},
   "source": [
    "# 特征降维\n",
    "lightgbm在高维稀疏的数据集上表现不出优势"
   ]
  },
  {
   "cell_type": "code",
   "execution_count": null,
   "metadata": {},
   "outputs": [],
   "source": []
  },
  {
   "cell_type": "markdown",
   "metadata": {},
   "source": [
    "# lightgbm模型构建"
   ]
  },
  {
   "cell_type": "code",
   "execution_count": 8,
   "metadata": {},
   "outputs": [],
   "source": [
    "#直接调用LightGBM内嵌的交叉验证（cv），可对连续的n_estimators参数进行快速交叉验证\n",
    "#而GridSearchCV只能对有限个参数进行交叉验证\n",
    "import json\n",
    "def modelfit(params, alg, X_train, y_train, early_stopping_rounds=10):\n",
    "    lgbm_params = params.copy()\n",
    "    lgbm_params['num_class'] = 5\n",
    "    \n",
    "    #直接调用LightGBM，而非sklarn的wrapper类\n",
    "    lgbmtrain = lgbm.Dataset(X_train, y_train, silent=True)\n",
    "    \n",
    "    cv_result = lgbm.cv(\n",
    "        lgbm_params, lgbmtrain, num_boost_round=10000, nfold=5, stratified=False, shuffle=True, metrics='multi_logloss',\n",
    "        early_stopping_rounds=early_stopping_rounds,show_stdv=True,seed=0)\n",
    "    # note: cv_results will look like: {\"multi_logloss-mean\": <a list of historical mean>,\n",
    "    # \"multi_logloss-stdv\": <a list of historical standard deviation>}\n",
    "    print('best n_estimators:', len(cv_result['multi_logloss-mean']))\n",
    "    print('best cv score:', cv_result['multi_logloss-mean'][-1])\n",
    "    #cv_result.to_csv('lgbm1_nestimators.csv', index_label = 'n_estimators')\n",
    "    json.dump(cv_result, open('lgbm_1.json', 'w'))\n",
    "    \n",
    "    # 采用交叉验证得到的最佳参数n_estimators，训练模型\n",
    "    alg.set_params(n_estimators = len(cv_result['multi_logloss-mean']))\n",
    "    alg.fit(X_train, y_train)"
   ]
  },
  {
   "cell_type": "code",
   "execution_count": 9,
   "metadata": {},
   "outputs": [
    {
     "name": "stderr",
     "output_type": "stream",
     "text": [
      "/root/anaconda3/lib/python3.6/site-packages/lightgbm/basic.py:731: UserWarning: silent keyword has been found in `params` and will be ignored.\n",
      "Please use silent argument of the Dataset constructor to pass this parameter.\n",
      "  .format(key))\n"
     ]
    },
    {
     "name": "stdout",
     "output_type": "stream",
     "text": [
      "best n_estimators: 187\n",
      "best cv score: 0.01148155341460718\n"
     ]
    },
    {
     "name": "stderr",
     "output_type": "stream",
     "text": [
      "/root/anaconda3/lib/python3.6/site-packages/sklearn/preprocessing/label.py:95: DataConversionWarning: A column-vector y was passed when a 1d array was expected. Please change the shape of y to (n_samples, ), for example using ravel().\n",
      "  y = column_or_1d(y, warn=True)\n",
      "/root/anaconda3/lib/python3.6/site-packages/sklearn/preprocessing/label.py:128: DataConversionWarning: A column-vector y was passed when a 1d array was expected. Please change the shape of y to (n_samples, ), for example using ravel().\n",
      "  y = column_or_1d(y, warn=True)\n"
     ]
    }
   ],
   "source": [
    "params = {'boosting_type': 'gbdt', \n",
    "          'objective': 'multiclass', \n",
    "          'nthread': -1, \n",
    "          'silent': True,\n",
    "          'learning_rate': 0.1, \n",
    "          'num_leaves': 50, \n",
    "          'max_depth': 6,\n",
    "          'max_bin': 127, \n",
    "          'subsample_for_bin': 50000,\n",
    "          'subsample': 0.8, \n",
    "          'subsample_freq': 1, \n",
    "          'colsample_bytree': 0.8, \n",
    "          'reg_alpha': 1, \n",
    "          'reg_lambda': 0,\n",
    "          'min_split_gain': 0.0, \n",
    "          'min_child_weight': 1, \n",
    "          'min_child_samples': 20, \n",
    "          'scale_pos_weight': 1}\n",
    "\n",
    "lgbm1 = lgbm.sklearn.LGBMClassifier(num_class= 5, n_estimators=1000, seed=0, **params)\n",
    "\n",
    "modelfit(params,lgbm1, X_train, y_train)"
   ]
  },
  {
   "cell_type": "code",
   "execution_count": 12,
   "metadata": {},
   "outputs": [
    {
     "data": {
      "image/png": "[encoded data removed]",
      "text/plain": [
       "<Figure size 1152x576 with 1 Axes>"
      ]
     },
     "metadata": {},
     "output_type": "display_data"
    }
   ],
   "source": [
    "#cv_result = pd.DataFrame.from_csv('lgbm1_nestimators.csv')\n",
    "cv_result = pd.read_json(\"lgbm_1.json\")\n",
    "\n",
    "# plot\n",
    "test_means = cv_result['multi_logloss-mean']\n",
    "#test_stds = cv_result['multi_logloss-std'] \n",
    "\n",
    "x_axis = range(0, cv_result.shape[0])\n",
    "plt.figure()\n",
    "\n",
    "plt.plot(x_axis, test_means) \n",
    "plt.title(\"LightGBM n_estimators vs Log Loss\",color='w')\n",
    "plt.xlabel( 'n_estimators',color='w' )\n",
    "plt.ylabel( 'Log Loss',color='w' )\n",
    "plt.savefig( 'lgbm1_n_estimators.png')\n",
    "\n",
    "plt.rcParams['figure.figsize'] = 16,8\n",
    "plt.rcParams['xtick.color'] = 'w'\n",
    "plt.rcParams['ytick.color'] = 'w'\n",
    "plt.show()"
   ]
  },
  {
   "cell_type": "code",
   "execution_count": 11,
   "metadata": {},
   "outputs": [
    {
     "name": "stdout",
     "output_type": "stream",
     "text": [
      "准确率：  0.9987951807228915\n"
     ]
    },
    {
     "name": "stderr",
     "output_type": "stream",
     "text": [
      "/root/anaconda3/lib/python3.6/site-packages/sklearn/preprocessing/label.py:151: DeprecationWarning: The truth value of an empty array is ambiguous. Returning False, but in future this will result in an error. Use `array.size > 0` to check that an array is not empty.\n",
      "  if diff:\n"
     ]
    }
   ],
   "source": [
    "y_pred = lgbm1.predict(X_test)\n",
    "accuracy_pred = accuracy_score(y_pred,y_test)\n",
    "print(\"准确率： \",accuracy_pred)"
   ]
  }
 ],
 "metadata": {
  "kernelspec": {
   "display_name": "Python 3",
   "language": "python",
   "name": "python3"
  },
  "language_info": {
   "codemirror_mode": {
    "name": "ipython",
    "version": 3
   },
   "file_extension": ".py",
   "mimetype": "text/x-python",
   "name": "python",
   "nbconvert_exporter": "python",
   "pygments_lexer": "ipython3",
   "version": "3.6.5"
  },
  "toc": {
   "base_numbering": 1,
   "nav_menu": {},
   "number_sections": true,
   "sideBar": true,
   "skip_h1_title": false,
   "title_cell": "Table of Contents",
   "title_sidebar": "Contents",
   "toc_cell": false,
   "toc_position": {},
   "toc_section_display": true,
   "toc_window_display": false
  },
  "varInspector": {
   "cols": {
    "lenName": 16,
    "lenType": 16,
    "lenVar": 40
   },
   "kernels_config": {
    "python": {
     "delete_cmd_postfix": "",
     "delete_cmd_prefix": "del ",
     "library": "var_list.py",
     "varRefreshCmd": "print(var_dic_list())"
    },
    "r": {
     "delete_cmd_postfix": ") ",
     "delete_cmd_prefix": "rm(",
     "library": "var_list.r",
     "varRefreshCmd": "cat(var_dic_list()) "
    }
   },
   "types_to_exclude": [
    "module",
    "function",
    "builtin_function_or_method",
    "instance",
    "_Feature"
   ],
   "window_display": false
  }
 },
 "nbformat": 4,
 "nbformat_minor": 2
}
